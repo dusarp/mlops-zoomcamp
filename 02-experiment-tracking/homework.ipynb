{
 "cells": [
  {
   "cell_type": "code",
   "execution_count": null,
   "id": "f8dcb346",
   "metadata": {},
   "outputs": [],
   "source": [
    "#Q1"
   ]
  },
  {
   "cell_type": "code",
   "execution_count": 1,
   "id": "f953cb5a",
   "metadata": {},
   "outputs": [
    {
     "name": "stdout",
     "output_type": "stream",
     "text": [
      "2.22.0\n"
     ]
    }
   ],
   "source": [
    "import mlflow\n",
    "print(mlflow.__version__)\n"
   ]
  },
  {
   "cell_type": "code",
   "execution_count": null,
   "id": "1404ecb6",
   "metadata": {},
   "outputs": [],
   "source": [
    "#Q2\n",
    "#Q2. Download and preprocess the data"
   ]
  },
  {
   "cell_type": "code",
   "execution_count": 2,
   "id": "df537780",
   "metadata": {},
   "outputs": [
    {
     "name": "stdout",
     "output_type": "stream",
     "text": [
      "dv.pkl\ttest.pkl  train.pkl  val.pkl\n"
     ]
    }
   ],
   "source": [
    "!dir \"output\" "
   ]
  },
  {
   "cell_type": "markdown",
   "id": "22a3a7fe",
   "metadata": {},
   "source": [
    "Answer: 4 files are in the output folder"
   ]
  },
  {
   "cell_type": "code",
   "execution_count": null,
   "id": "83a2c532",
   "metadata": {},
   "outputs": [],
   "source": [
    "#Q3\n",
    "#Train a model with autolog"
   ]
  },
  {
   "cell_type": "markdown",
   "id": "993f151e",
   "metadata": {},
   "source": [
    "Answer: the value of the min_samlple_split parameter is 2"
   ]
  },
  {
   "cell_type": "code",
   "execution_count": 3,
   "id": "82af6293",
   "metadata": {},
   "outputs": [],
   "source": [
    "#Q4 \n",
    "#In addition to backend-store-uri, what else do you need to pass to properly configure the server?"
   ]
  },
  {
   "cell_type": "code",
   "execution_count": null,
   "id": "e3f726e1",
   "metadata": {},
   "outputs": [],
   "source": [
    "#mlflow server --backend-store-uri sqlite:///backend.db --default-artifact-root ./artifacts"
   ]
  },
  {
   "cell_type": "markdown",
   "id": "e7959051",
   "metadata": {},
   "source": [
    "Answer: --default-artifact-root is required"
   ]
  },
  {
   "cell_type": "code",
   "execution_count": null,
   "id": "500f8098",
   "metadata": {},
   "outputs": [],
   "source": [
    "#Q5 Tune model hyperparameters\n",
    "#What is the best RMSE you've got\n",
    "#the idea is to open MLflow UI and browse for the best model"
   ]
  },
  {
   "cell_type": "code",
   "execution_count": 2,
   "id": "80aec6ba",
   "metadata": {},
   "outputs": [
    {
     "name": "stdout",
     "output_type": "stream",
     "text": [
      "2025/05/30 13:37:07 INFO mlflow.tracking.fluent: Experiment with name 'rm-hyperopt' does not exist. Creating a new experiment.\n",
      "🏃 View run fun-loon-492 at: http://127.0.0.1:5000/#/experiments/2/runs/2b68854de2e74ab18ed58bd100237080\n",
      "\n",
      "🧪 View experiment at: http://127.0.0.1:5000/#/experiments/2                    \n",
      "\n",
      "🏃 View run lyrical-sow-950 at: http://127.0.0.1:5000/#/experiments/2/runs/17303a56630843fcb941fe83e269863c\n",
      "\n",
      "🧪 View experiment at: http://127.0.0.1:5000/#/experiments/2                    \n",
      "\n",
      "🏃 View run powerful-skunk-607 at: http://127.0.0.1:5000/#/experiments/2/runs/4259cf56bda9404a9a68a419bd12bf17\n",
      "\n",
      "🧪 View experiment at: http://127.0.0.1:5000/#/experiments/2                    \n",
      "\n",
      "🏃 View run gifted-goose-385 at: http://127.0.0.1:5000/#/experiments/2/runs/31c4b6cfe15d4faebb33db111f36e743\n",
      "\n",
      "🧪 View experiment at: http://127.0.0.1:5000/#/experiments/2                    \n",
      "\n",
      "🏃 View run bald-penguin-37 at: http://127.0.0.1:5000/#/experiments/2/runs/3d23a92164044532bb7a32d185d5fd60\n",
      "\n",
      "🧪 View experiment at: http://127.0.0.1:5000/#/experiments/2                    \n",
      "\n",
      "🏃 View run intrigued-swan-548 at: http://127.0.0.1:5000/#/experiments/2/runs/d5f854ccbdbd46e59900507128697795\n",
      "\n",
      "🧪 View experiment at: http://127.0.0.1:5000/#/experiments/2                    \n",
      "\n",
      "🏃 View run useful-squid-805 at: http://127.0.0.1:5000/#/experiments/2/runs/06665feb97d044d8aaf7f9cda4de0af1\n",
      "\n",
      "🧪 View experiment at: http://127.0.0.1:5000/#/experiments/2                    \n",
      "\n",
      "🏃 View run casual-zebra-605 at: http://127.0.0.1:5000/#/experiments/2/runs/94169f750af2404ea280e28b44f0b455\n",
      "\n",
      "🧪 View experiment at: http://127.0.0.1:5000/#/experiments/2                    \n",
      "\n",
      "🏃 View run fun-dog-638 at: http://127.0.0.1:5000/#/experiments/2/runs/ed4722eb36e4404992fd10401fce130b\n",
      "\n",
      "🧪 View experiment at: http://127.0.0.1:5000/#/experiments/2                    \n",
      "\n",
      "🏃 View run omniscient-mare-846 at: http://127.0.0.1:5000/#/experiments/2/runs/68f8d3267c9041cf9878d6f874a82384\n",
      "\n",
      "🧪 View experiment at: http://127.0.0.1:5000/#/experiments/2                    \n",
      "\n",
      "🏃 View run zealous-newt-491 at: http://127.0.0.1:5000/#/experiments/2/runs/91de648c9aa14e2499cc34f7c0d9b73f\n",
      "\n",
      "🧪 View experiment at: http://127.0.0.1:5000/#/experiments/2                    \n",
      "\n",
      "🏃 View run respected-steed-71 at: http://127.0.0.1:5000/#/experiments/2/runs/43e03780b9214ddfbd2cd35c8bcb3c42\n",
      "\n",
      "🧪 View experiment at: http://127.0.0.1:5000/#/experiments/2                    \n",
      "\n",
      "🏃 View run thoughtful-doe-338 at: http://127.0.0.1:5000/#/experiments/2/runs/b9728cfd52af4a02bb8bb2a5c7e21a00\n",
      "\n",
      "🧪 View experiment at: http://127.0.0.1:5000/#/experiments/2                    \n",
      "\n",
      "🏃 View run suave-cow-89 at: http://127.0.0.1:5000/#/experiments/2/runs/d4528dc84366459c9346406d55fd4329\n",
      "\n",
      "🧪 View experiment at: http://127.0.0.1:5000/#/experiments/2                    \n",
      "\n",
      "🏃 View run trusting-grouse-265 at: http://127.0.0.1:5000/#/experiments/2/runs/bd7ff0ea2f224e4da392a5424d9f2a29\n",
      "\n",
      "🧪 View experiment at: http://127.0.0.1:5000/#/experiments/2                    \n",
      "\n",
      "🏃 View run nervous-lamb-756 at: http://127.0.0.1:5000/#/experiments/2/runs/6649b9e0505849f0ada3dac715c73797\n",
      "\n",
      "🧪 View experiment at: http://127.0.0.1:5000/#/experiments/2                    \n",
      "\n",
      "🏃 View run rumbling-mare-690 at: http://127.0.0.1:5000/#/experiments/2/runs/3466f26e3970469c82fb1b7d4d0858ce\n",
      "\n",
      "🧪 View experiment at: http://127.0.0.1:5000/#/experiments/2                    \n",
      "\n",
      "🏃 View run colorful-moose-170 at: http://127.0.0.1:5000/#/experiments/2/runs/115070693fad4d3a9372b50579436afa\n",
      "\n",
      "🧪 View experiment at: http://127.0.0.1:5000/#/experiments/2                    \n",
      "\n",
      "🏃 View run painted-shoat-152 at: http://127.0.0.1:5000/#/experiments/2/runs/8dbea66d591d480cb987ac8e2abb5b69\n",
      "\n",
      "🧪 View experiment at: http://127.0.0.1:5000/#/experiments/2                    \n",
      "\n",
      "🏃 View run stylish-zebra-673 at: http://127.0.0.1:5000/#/experiments/2/runs/80460e765ad24873ad90eec1ce8ede69\n",
      "\n",
      "🧪 View experiment at: http://127.0.0.1:5000/#/experiments/2                    \n",
      "\n",
      "🏃 View run zealous-crab-903 at: http://127.0.0.1:5000/#/experiments/2/runs/816b939b250949dd84a02db2a9599098\n",
      "\n",
      "🧪 View experiment at: http://127.0.0.1:5000/#/experiments/2                    \n",
      "\n",
      "🏃 View run carefree-kite-745 at: http://127.0.0.1:5000/#/experiments/2/runs/d11f0c77b85e4b1aad75c8ee80c827c5\n",
      "\n",
      "🧪 View experiment at: http://127.0.0.1:5000/#/experiments/2                    \n",
      "\n",
      "🏃 View run adorable-fawn-754 at: http://127.0.0.1:5000/#/experiments/2/runs/9fca930c778f46a6acc99f6f786e3e1f\n",
      "\n",
      "🧪 View experiment at: http://127.0.0.1:5000/#/experiments/2                    \n",
      "\n",
      "🏃 View run clumsy-rat-477 at: http://127.0.0.1:5000/#/experiments/2/runs/b70005d65b11449a9f1fff8e42d31a2c\n",
      "\n",
      "🧪 View experiment at: http://127.0.0.1:5000/#/experiments/2                    \n",
      "\n",
      "🏃 View run victorious-gnu-474 at: http://127.0.0.1:5000/#/experiments/2/runs/f5f065882545481d857bb9c2b5be96df\n",
      "\n",
      "🧪 View experiment at: http://127.0.0.1:5000/#/experiments/2                    \n",
      "\n",
      "🏃 View run respected-gnat-142 at: http://127.0.0.1:5000/#/experiments/2/runs/e4c3cdf50c034a3fa9dfae5565f0566d\n",
      "\n",
      "🧪 View experiment at: http://127.0.0.1:5000/#/experiments/2                    \n",
      "\n",
      "🏃 View run sincere-cub-655 at: http://127.0.0.1:5000/#/experiments/2/runs/58552eb2eb5d4af296ecabf4b8882f20\n",
      "\n",
      "🧪 View experiment at: http://127.0.0.1:5000/#/experiments/2                    \n",
      "\n",
      "🏃 View run valuable-gnu-903 at: http://127.0.0.1:5000/#/experiments/2/runs/1015ba1cb9a649df98e8f0b28cb31d80\n",
      "\n",
      "🧪 View experiment at: http://127.0.0.1:5000/#/experiments/2                    \n",
      "\n",
      "🏃 View run auspicious-fowl-992 at: http://127.0.0.1:5000/#/experiments/2/runs/d03286c55a63442d863479d84cbedd95\n",
      "\n",
      "🧪 View experiment at: http://127.0.0.1:5000/#/experiments/2                    \n",
      "\n",
      "🏃 View run vaunted-shrimp-558 at: http://127.0.0.1:5000/#/experiments/2/runs/a436560062414bb9ad1ab73f97bbcf4b\n",
      "\n",
      "🧪 View experiment at: http://127.0.0.1:5000/#/experiments/2                    \n",
      "\n",
      "🏃 View run bedecked-auk-706 at: http://127.0.0.1:5000/#/experiments/2/runs/a7c34fd14d5647349c630de3b81649cd\n",
      "\n",
      "🧪 View experiment at: http://127.0.0.1:5000/#/experiments/2                    \n",
      "\n",
      "🏃 View run kindly-stag-596 at: http://127.0.0.1:5000/#/experiments/2/runs/af13cf4341a34645bce146ac4b07a0dd\n",
      "\n",
      "🧪 View experiment at: http://127.0.0.1:5000/#/experiments/2                    \n",
      "\n",
      "🏃 View run sedate-lark-720 at: http://127.0.0.1:5000/#/experiments/2/runs/c2194f109c1647e8bd426f569c30be19\n",
      "\n",
      "🧪 View experiment at: http://127.0.0.1:5000/#/experiments/2                    \n",
      "\n",
      "🏃 View run rogue-penguin-76 at: http://127.0.0.1:5000/#/experiments/2/runs/fed401d6dc334065908f8ce74e12ccd7\n",
      "\n",
      "🧪 View experiment at: http://127.0.0.1:5000/#/experiments/2                    \n",
      "\n",
      "🏃 View run nebulous-hog-424 at: http://127.0.0.1:5000/#/experiments/2/runs/04729dce5755422d9358f73a191db452\n",
      "\n",
      "🧪 View experiment at: http://127.0.0.1:5000/#/experiments/2                    \n",
      "\n",
      "🏃 View run colorful-croc-10 at: http://127.0.0.1:5000/#/experiments/2/runs/885eeffb37244cf993a0eeaa28f22b66\n",
      "\n",
      "🧪 View experiment at: http://127.0.0.1:5000/#/experiments/2                    \n",
      "\n",
      "🏃 View run traveling-snake-239 at: http://127.0.0.1:5000/#/experiments/2/runs/26fae37c8f3146cb84c4c96661f120d9\n",
      "\n",
      "🧪 View experiment at: http://127.0.0.1:5000/#/experiments/2                    \n",
      "\n",
      "🏃 View run skittish-rook-117 at: http://127.0.0.1:5000/#/experiments/2/runs/244dab06c5d34cd6a05d2e113f78f3fb\n",
      "\n",
      "🧪 View experiment at: http://127.0.0.1:5000/#/experiments/2                    \n",
      "\n",
      "🏃 View run luminous-frog-903 at: http://127.0.0.1:5000/#/experiments/2/runs/65f8411389664ec9b730208675b3cafc\n",
      "\n",
      "🧪 View experiment at: http://127.0.0.1:5000/#/experiments/2                    \n",
      "\n",
      "🏃 View run calm-sheep-593 at: http://127.0.0.1:5000/#/experiments/2/runs/493d3e2bd1f3414983208251f06d2343\n",
      "\n",
      "🧪 View experiment at: http://127.0.0.1:5000/#/experiments/2                    \n",
      "\n",
      "🏃 View run rogue-shrike-855 at: http://127.0.0.1:5000/#/experiments/2/runs/290bdb2d86314f9f824af96035d1f851\n",
      "\n",
      "🧪 View experiment at: http://127.0.0.1:5000/#/experiments/2                    \n",
      "\n",
      "🏃 View run charming-mouse-741 at: http://127.0.0.1:5000/#/experiments/2/runs/1855ee92986e45bd9b8b13981f415eaa\n",
      "\n",
      "🧪 View experiment at: http://127.0.0.1:5000/#/experiments/2                    \n",
      "\n",
      "🏃 View run orderly-swan-734 at: http://127.0.0.1:5000/#/experiments/2/runs/d342b7fa760f4408ac46bd5ad020ac95\n",
      "\n",
      "🧪 View experiment at: http://127.0.0.1:5000/#/experiments/2                    \n",
      "\n",
      "🏃 View run agreeable-lamb-330 at: http://127.0.0.1:5000/#/experiments/2/runs/a2419eac18d24d67b6e3366e3ad1f5ad\n",
      "\n",
      "🧪 View experiment at: http://127.0.0.1:5000/#/experiments/2                    \n",
      "\n",
      "🏃 View run enthused-snake-53 at: http://127.0.0.1:5000/#/experiments/2/runs/e37c2a9e3789490d91c163d5c972c474\n",
      "\n",
      "🧪 View experiment at: http://127.0.0.1:5000/#/experiments/2                    \n",
      "\n",
      "🏃 View run crawling-smelt-51 at: http://127.0.0.1:5000/#/experiments/2/runs/4fbe60eca98e4f0b875774ca92186d34\n",
      "\n",
      "🧪 View experiment at: http://127.0.0.1:5000/#/experiments/2                    \n",
      "\n",
      "🏃 View run magnificent-crane-90 at: http://127.0.0.1:5000/#/experiments/2/runs/90ca8262eb58479daecad8c81fc02672\n",
      "\n",
      "🧪 View experiment at: http://127.0.0.1:5000/#/experiments/2                    \n",
      "\n",
      "🏃 View run fearless-kite-967 at: http://127.0.0.1:5000/#/experiments/2/runs/87e31a1af69d453a88ca6af9b45d5d8d\n",
      "\n",
      "🧪 View experiment at: http://127.0.0.1:5000/#/experiments/2                    \n",
      "\n",
      "🏃 View run aged-grouse-60 at: http://127.0.0.1:5000/#/experiments/2/runs/9b1252ee62c449f8a4ae22838a26ceea\n",
      "\n",
      "🧪 View experiment at: http://127.0.0.1:5000/#/experiments/2                    \n",
      "\n",
      "🏃 View run unique-bass-103 at: http://127.0.0.1:5000/#/experiments/2/runs/3999043d8e5b4df59b26f2ec1588c263\n",
      "\n",
      "🧪 View experiment at: http://127.0.0.1:5000/#/experiments/2                    \n",
      "\n",
      "100%|██████████| 50/50 [05:35<00:00,  6.71s/trial, best loss: 5.320408749882826]\n"
     ]
    }
   ],
   "source": [
    "!python hpo.py"
   ]
  },
  {
   "cell_type": "markdown",
   "id": "e398e2d2",
   "metadata": {},
   "source": [
    "Answer: 5.335"
   ]
  },
  {
   "cell_type": "code",
   "execution_count": null,
   "id": "0f645bae",
   "metadata": {},
   "outputs": [],
   "source": [
    "#Q6 Promote the best model to the model registry"
   ]
  },
  {
   "cell_type": "markdown",
   "id": "daa85706",
   "metadata": {},
   "source": [
    "Answer: 5.567"
   ]
  }
 ],
 "metadata": {
  "kernelspec": {
   "display_name": "exp-tracking-env",
   "language": "python",
   "name": "python3"
  },
  "language_info": {
   "codemirror_mode": {
    "name": "ipython",
    "version": 3
   },
   "file_extension": ".py",
   "mimetype": "text/x-python",
   "name": "python",
   "nbconvert_exporter": "python",
   "pygments_lexer": "ipython3",
   "version": "3.9.21"
  }
 },
 "nbformat": 4,
 "nbformat_minor": 5
}
