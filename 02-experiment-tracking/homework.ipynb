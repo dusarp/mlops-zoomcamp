{
 "cells": [
  {
   "cell_type": "code",
   "execution_count": null,
   "id": "f8dcb346",
   "metadata": {},
   "outputs": [],
   "source": [
    "#Q1"
   ]
  },
  {
   "cell_type": "code",
   "execution_count": 1,
   "id": "f953cb5a",
   "metadata": {},
   "outputs": [
    {
     "name": "stdout",
     "output_type": "stream",
     "text": [
      "2.22.0\n"
     ]
    }
   ],
   "source": [
    "import mlflow\n",
    "print(mlflow.__version__)\n"
   ]
  },
  {
   "cell_type": "code",
   "execution_count": null,
   "id": "1404ecb6",
   "metadata": {},
   "outputs": [],
   "source": [
    "#Q2\n",
    "#Q2. Download and preprocess the data"
   ]
  },
  {
   "cell_type": "code",
   "execution_count": 2,
   "id": "df537780",
   "metadata": {},
   "outputs": [
    {
     "name": "stdout",
     "output_type": "stream",
     "text": [
      "dv.pkl\ttest.pkl  train.pkl  val.pkl\n"
     ]
    }
   ],
   "source": [
    "!dir \"output\" "
   ]
  },
  {
   "cell_type": "markdown",
   "id": "22a3a7fe",
   "metadata": {},
   "source": [
    "Answer: 4 files are in the output folder"
   ]
  },
  {
   "cell_type": "code",
   "execution_count": null,
   "id": "83a2c532",
   "metadata": {},
   "outputs": [],
   "source": [
    "#Q3\n",
    "#Train a model with autolog"
   ]
  },
  {
   "cell_type": "markdown",
   "id": "993f151e",
   "metadata": {},
   "source": [
    "Answer: the value of the min_samlple_split parameter is 2"
   ]
  },
  {
   "cell_type": "code",
   "execution_count": 3,
   "id": "82af6293",
   "metadata": {},
   "outputs": [],
   "source": [
    "#Q4 \n",
    "#In addition to backend-store-uri, what else do you need to pass to properly configure the server?"
   ]
  },
  {
   "cell_type": "code",
   "execution_count": null,
   "id": "e3f726e1",
   "metadata": {},
   "outputs": [],
   "source": [
    "#mlflow server --backend-store-uri sqlite:///backend.db --default-artifact-root ./artifacts"
   ]
  },
  {
   "cell_type": "markdown",
   "id": "e7959051",
   "metadata": {},
   "source": [
    "Answer: --default-artifact-root is required"
   ]
  },
  {
   "cell_type": "code",
   "execution_count": null,
   "id": "500f8098",
   "metadata": {},
   "outputs": [],
   "source": [
    "#Q5 Tune model hyperparameters\n",
    "#What is the best RMSE you've got\n",
    "#the idea is to open MLflow UI and browse for the best model"
   ]
  },
  {
   "cell_type": "code",
   "execution_count": null,
   "id": "80aec6ba",
   "metadata": {},
   "outputs": [
    {
     "name": "stdout",
     "output_type": "stream",
     "text": [
      "2025/05/30 13:37:07 INFO mlflow.tracking.fluent: Experiment with name 'rm-hyperopt' does not exist. Creating a new experiment.\n",
      "🏃 View run fun-loon-492 at: http://127.0.0.1:5000/#/experiments/2/runs/2b68854de2e74ab18ed58bd100237080\n",
      "\n",
      "🧪 View experiment at: http://127.0.0.1:5000/#/experiments/2                    \n",
      "\n",
      "🏃 View run lyrical-sow-950 at: http://127.0.0.1:5000/#/experiments/2/runs/17303a56630843fcb941fe83e269863c\n",
      "\n",
      "🧪 View experiment at: http://127.0.0.1:5000/#/experiments/2                    \n",
      "\n",
      "🏃 View run powerful-skunk-607 at: http://127.0.0.1:5000/#/experiments/2/runs/4259cf56bda9404a9a68a419bd12bf17\n",
      "\n",
      "🧪 View experiment at: http://127.0.0.1:5000/#/experiments/2                    \n",
      "\n",
      "🏃 View run gifted-goose-385 at: http://127.0.0.1:5000/#/experiments/2/runs/31c4b6cfe15d4faebb33db111f36e743\n",
      "\n",
      "🧪 View experiment at: http://127.0.0.1:5000/#/experiments/2                    \n",
      "\n",
      "🏃 View run bald-penguin-37 at: http://127.0.0.1:5000/#/experiments/2/runs/3d23a92164044532bb7a32d185d5fd60\n",
      "\n",
      "🧪 View experiment at: http://127.0.0.1:5000/#/experiments/2                    \n",
      "\n",
      "🏃 View run intrigued-swan-548 at: http://127.0.0.1:5000/#/experiments/2/runs/d5f854ccbdbd46e59900507128697795\n",
      "\n",
      "🧪 View experiment at: http://127.0.0.1:5000/#/experiments/2                    \n",
      "\n",
      "🏃 View run useful-squid-805 at: http://127.0.0.1:5000/#/experiments/2/runs/06665feb97d044d8aaf7f9cda4de0af1\n",
      "\n",
      "🧪 View experiment at: http://127.0.0.1:5000/#/experiments/2                    \n",
      "\n",
      "🏃 View run casual-zebra-605 at: http://127.0.0.1:5000/#/experiments/2/runs/94169f750af2404ea280e28b44f0b455\n",
      "\n",
      "🧪 View experiment at: http://127.0.0.1:5000/#/experiments/2                    \n",
      "\n",
      "🏃 View run fun-dog-638 at: http://127.0.0.1:5000/#/experiments/2/runs/ed4722eb36e4404992fd10401fce130b\n",
      "\n",
      "🧪 View experiment at: http://127.0.0.1:5000/#/experiments/2                    \n",
      "\n",
      "🏃 View run omniscient-mare-846 at: http://127.0.0.1:5000/#/experiments/2/runs/68f8d3267c9041cf9878d6f874a82384\n",
      "\n",
      "🧪 View experiment at: http://127.0.0.1:5000/#/experiments/2                    \n",
      "\n",
      "🏃 View run zealous-newt-491 at: http://127.0.0.1:5000/#/experiments/2/runs/91de648c9aa14e2499cc34f7c0d9b73f\n",
      "\n",
      "🧪 View experiment at: http://127.0.0.1:5000/#/experiments/2                    \n",
      "\n",
      "🏃 View run respected-steed-71 at: http://127.0.0.1:5000/#/experiments/2/runs/43e03780b9214ddfbd2cd35c8bcb3c42\n",
      "\n",
      "🧪 View experiment at: http://127.0.0.1:5000/#/experiments/2                    \n",
      "\n",
      "🏃 View run thoughtful-doe-338 at: http://127.0.0.1:5000/#/experiments/2/runs/b9728cfd52af4a02bb8bb2a5c7e21a00\n",
      "\n",
      "🧪 View experiment at: http://127.0.0.1:5000/#/experiments/2                    \n",
      "\n",
      "🏃 View run suave-cow-89 at: http://127.0.0.1:5000/#/experiments/2/runs/d4528dc84366459c9346406d55fd4329\n",
      "\n",
      "🧪 View experiment at: http://127.0.0.1:5000/#/experiments/2                    \n",
      "\n",
      "🏃 View run trusting-grouse-265 at: http://127.0.0.1:5000/#/experiments/2/runs/bd7ff0ea2f224e4da392a5424d9f2a29\n",
      "\n",
      "🧪 View experiment at: http://127.0.0.1:5000/#/experiments/2                    \n",
      "\n",
      "🏃 View run nervous-lamb-756 at: http://127.0.0.1:5000/#/experiments/2/runs/6649b9e0505849f0ada3dac715c73797\n",
      "\n",
      "🧪 View experiment at: http://127.0.0.1:5000/#/experiments/2                    \n",
      "\n",
      "🏃 View run rumbling-mare-690 at: http://127.0.0.1:5000/#/experiments/2/runs/3466f26e3970469c82fb1b7d4d0858ce\n",
      "\n",
      "🧪 View experiment at: http://127.0.0.1:5000/#/experiments/2                    \n",
      "\n",
      "🏃 View run colorful-moose-170 at: http://127.0.0.1:5000/#/experiments/2/runs/115070693fad4d3a9372b50579436afa\n",
      "\n",
      "🧪 View experiment at: http://127.0.0.1:5000/#/experiments/2                    \n",
      "\n",
      "🏃 View run painted-shoat-152 at: http://127.0.0.1:5000/#/experiments/2/runs/8dbea66d591d480cb987ac8e2abb5b69\n",
      "\n",
      "🧪 View experiment at: http://127.0.0.1:5000/#/experiments/2                    \n",
      "\n",
      "🏃 View run stylish-zebra-673 at: http://127.0.0.1:5000/#/experiments/2/runs/80460e765ad24873ad90eec1ce8ede69\n",
      "\n",
      "🧪 View experiment at: http://127.0.0.1:5000/#/experiments/2                    \n",
      "\n",
      "🏃 View run zealous-crab-903 at: http://127.0.0.1:5000/#/experiments/2/runs/816b939b250949dd84a02db2a9599098\n",
      "\n",
      "🧪 View experiment at: http://127.0.0.1:5000/#/experiments/2                    \n",
      "\n",
      "🏃 View run carefree-kite-745 at: http://127.0.0.1:5000/#/experiments/2/runs/d11f0c77b85e4b1aad75c8ee80c827c5\n",
      "\n",
      "🧪 View experiment at: http://127.0.0.1:5000/#/experiments/2                    \n",
      "\n",
      "🏃 View run adorable-fawn-754 at: http://127.0.0.1:5000/#/experiments/2/runs/9fca930c778f46a6acc99f6f786e3e1f\n",
      "\n",
      "🧪 View experiment at: http://127.0.0.1:5000/#/experiments/2                    \n",
      "\n",
      "🏃 View run clumsy-rat-477 at: http://127.0.0.1:5000/#/experiments/2/runs/b70005d65b11449a9f1fff8e42d31a2c\n",
      "\n",
      "🧪 View experiment at: http://127.0.0.1:5000/#/experiments/2                    \n",
      "\n",
      "🏃 View run victorious-gnu-474 at: http://127.0.0.1:5000/#/experiments/2/runs/f5f065882545481d857bb9c2b5be96df\n",
      "\n",
      "🧪 View experiment at: http://127.0.0.1:5000/#/experiments/2                    \n",
      "\n",
      "🏃 View run respected-gnat-142 at: http://127.0.0.1:5000/#/experiments/2/runs/e4c3cdf50c034a3fa9dfae5565f0566d\n",
      "\n",
      "🧪 View experiment at: http://127.0.0.1:5000/#/experiments/2                    \n",
      "\n",
      "🏃 View run sincere-cub-655 at: http://127.0.0.1:5000/#/experiments/2/runs/58552eb2eb5d4af296ecabf4b8882f20\n",
      "\n",
      "🧪 View experiment at: http://127.0.0.1:5000/#/experiments/2                    \n",
      "\n",
      "🏃 View run valuable-gnu-903 at: http://127.0.0.1:5000/#/experiments/2/runs/1015ba1cb9a649df98e8f0b28cb31d80\n",
      "\n",
      "🧪 View experiment at: http://127.0.0.1:5000/#/experiments/2                    \n",
      "\n",
      "🏃 View run auspicious-fowl-992 at: http://127.0.0.1:5000/#/experiments/2/runs/d03286c55a63442d863479d84cbedd95\n",
      "\n",
      "🧪 View experiment at: http://127.0.0.1:5000/#/experiments/2                    \n",
      "\n",
      "🏃 View run vaunted-shrimp-558 at: http://127.0.0.1:5000/#/experiments/2/runs/a436560062414bb9ad1ab73f97bbcf4b\n",
      "\n",
      "🧪 View experiment at: http://127.0.0.1:5000/#/experiments/2                    \n",
      "\n",
      "🏃 View run bedecked-auk-706 at: http://127.0.0.1:5000/#/experiments/2/runs/a7c34fd14d5647349c630de3b81649cd\n",
      "\n",
      "🧪 View experiment at: http://127.0.0.1:5000/#/experiments/2                    \n",
      "\n",
      "🏃 View run kindly-stag-596 at: http://127.0.0.1:5000/#/experiments/2/runs/af13cf4341a34645bce146ac4b07a0dd\n",
      "\n",
      "🧪 View experiment at: http://127.0.0.1:5000/#/experiments/2                    \n",
      "\n",
      "🏃 View run sedate-lark-720 at: http://127.0.0.1:5000/#/experiments/2/runs/c2194f109c1647e8bd426f569c30be19\n",
      "\n",
      "🧪 View experiment at: http://127.0.0.1:5000/#/experiments/2                    \n",
      "\n",
      "🏃 View run rogue-penguin-76 at: http://127.0.0.1:5000/#/experiments/2/runs/fed401d6dc334065908f8ce74e12ccd7\n",
      "\n",
      "🧪 View experiment at: http://127.0.0.1:5000/#/experiments/2                    \n",
      "\n",
      "🏃 View run nebulous-hog-424 at: http://127.0.0.1:5000/#/experiments/2/runs/04729dce5755422d9358f73a191db452\n",
      "\n",
      "🧪 View experiment at: http://127.0.0.1:5000/#/experiments/2                    \n",
      "\n",
      " 70%|███████   | 35/50 [03:44<01:30,  6.01s/trial, best loss: 5.320408749882826]"
     ]
    }
   ],
   "source": [
    "!python hpo.py"
   ]
  },
  {
   "cell_type": "code",
   "execution_count": 19,
   "id": "37c40ed8",
   "metadata": {},
   "outputs": [],
   "source": [
    "import mlflow\n",
    "from mlflow.tracking import MlflowClient"
   ]
  },
  {
   "cell_type": "code",
   "execution_count": 22,
   "id": "d99681c5",
   "metadata": {},
   "outputs": [],
   "source": [
    "client = MlflowClient(\"http.//127.0.0.1:5000\")"
   ]
  },
  {
   "cell_type": "code",
   "execution_count": 29,
   "id": "27a99b9a",
   "metadata": {},
   "outputs": [],
   "source": [
    "experiment_name = \"random-forest-hyperopt\"\n",
    "experiment = client.get_experiment_by_name(experiment_name)"
   ]
  },
  {
   "cell_type": "code",
   "execution_count": 34,
   "id": "7dffd80f",
   "metadata": {},
   "outputs": [
    {
     "name": "stderr",
     "output_type": "stream",
     "text": [
      "WARNING:root:Malformed experiment '2'. Detailed error Yaml file '/home/dusarpi/data.talks/mlops-zoomcamp/02-experiment-tracking/mlruns/2/meta.yaml' does not exist.\n",
      "Traceback (most recent call last):\n",
      "  File \"/home/dusarpi/anaconda3/envs/exp-tracking-env/lib/python3.9/site-packages/mlflow/store/tracking/file_store.py\", line 329, in search_experiments\n",
      "    exp = self._get_experiment(exp_id, view_type)\n",
      "  File \"/home/dusarpi/anaconda3/envs/exp-tracking-env/lib/python3.9/site-packages/mlflow/store/tracking/file_store.py\", line 427, in _get_experiment\n",
      "    meta = FileStore._read_yaml(experiment_dir, FileStore.META_DATA_FILE_NAME)\n",
      "  File \"/home/dusarpi/anaconda3/envs/exp-tracking-env/lib/python3.9/site-packages/mlflow/store/tracking/file_store.py\", line 1373, in _read_yaml\n",
      "    return _read_helper(root, file_name, attempts_remaining=retries)\n",
      "  File \"/home/dusarpi/anaconda3/envs/exp-tracking-env/lib/python3.9/site-packages/mlflow/store/tracking/file_store.py\", line 1366, in _read_helper\n",
      "    result = read_yaml(root, file_name)\n",
      "  File \"/home/dusarpi/anaconda3/envs/exp-tracking-env/lib/python3.9/site-packages/mlflow/utils/file_utils.py\", line 310, in read_yaml\n",
      "    raise MissingConfigException(f\"Yaml file '{file_path}' does not exist.\")\n",
      "mlflow.exceptions.MissingConfigException: Yaml file '/home/dusarpi/data.talks/mlops-zoomcamp/02-experiment-tracking/mlruns/2/meta.yaml' does not exist.\n"
     ]
    }
   ],
   "source": [
    "import mlflow\n",
    "\n",
    "experiments = mlflow.search_experiments()\n",
    "for exp in experiments:\n",
    "    print(f\"Name: {exp.name}, ID: {exp.experiment_id}\")"
   ]
  },
  {
   "cell_type": "code",
   "execution_count": null,
   "id": "edf51f93",
   "metadata": {},
   "outputs": [],
   "source": [
    "print('The best validation rmse is :', round(best_run.data.metrics['rmse'], 3))"
   ]
  },
  {
   "cell_type": "code",
   "execution_count": null,
   "id": "0f645bae",
   "metadata": {},
   "outputs": [],
   "source": []
  }
 ],
 "metadata": {
  "kernelspec": {
   "display_name": "exp-tracking-env",
   "language": "python",
   "name": "python3"
  },
  "language_info": {
   "codemirror_mode": {
    "name": "ipython",
    "version": 3
   },
   "file_extension": ".py",
   "mimetype": "text/x-python",
   "name": "python",
   "nbconvert_exporter": "python",
   "pygments_lexer": "ipython3",
   "version": "3.9.21"
  }
 },
 "nbformat": 4,
 "nbformat_minor": 5
}
