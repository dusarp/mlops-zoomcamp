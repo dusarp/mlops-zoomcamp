{
 "cells": [
  {
   "cell_type": "code",
   "execution_count": null,
   "id": "f8dcb346",
   "metadata": {},
   "outputs": [],
   "source": [
    "#Q1"
   ]
  },
  {
   "cell_type": "code",
   "execution_count": 1,
   "id": "f953cb5a",
   "metadata": {},
   "outputs": [
    {
     "name": "stdout",
     "output_type": "stream",
     "text": [
      "2.22.0\n"
     ]
    }
   ],
   "source": [
    "import mlflow\n",
    "print(mlflow.__version__)\n"
   ]
  },
  {
   "cell_type": "code",
   "execution_count": null,
   "id": "1404ecb6",
   "metadata": {},
   "outputs": [],
   "source": [
    "#Q2\n",
    "#Q2. Download and preprocess the data"
   ]
  },
  {
   "cell_type": "code",
   "execution_count": 2,
   "id": "df537780",
   "metadata": {},
   "outputs": [
    {
     "name": "stdout",
     "output_type": "stream",
     "text": [
      "dv.pkl\ttest.pkl  train.pkl  val.pkl\n"
     ]
    }
   ],
   "source": [
    "!dir \"output\" "
   ]
  },
  {
   "cell_type": "markdown",
   "id": "22a3a7fe",
   "metadata": {},
   "source": [
    "Answer: 4 files are in the output folder"
   ]
  },
  {
   "cell_type": "code",
   "execution_count": null,
   "id": "83a2c532",
   "metadata": {},
   "outputs": [],
   "source": [
    "#Q3\n",
    "#Train a model with autolog"
   ]
  },
  {
   "cell_type": "markdown",
   "id": "993f151e",
   "metadata": {},
   "source": [
    "Answer: the value of the min_samlple_split parameter is 2"
   ]
  },
  {
   "cell_type": "code",
   "execution_count": 3,
   "id": "82af6293",
   "metadata": {},
   "outputs": [],
   "source": [
    "#Q4 \n",
    "#In addition to backend-store-uri, what else do you need to pass to properly configure the server?"
   ]
  },
  {
   "cell_type": "code",
   "execution_count": null,
   "id": "e3f726e1",
   "metadata": {},
   "outputs": [],
   "source": [
    "#mlflow server --backend-store-uri \"sqlite:///mlflow.db\" --default-artifact-root \"./artifacts\""
   ]
  },
  {
   "cell_type": "markdown",
   "id": "e7959051",
   "metadata": {},
   "source": [
    "Answer: --default-artifact-root is required"
   ]
  },
  {
   "cell_type": "markdown",
   "id": "500f8098",
   "metadata": {},
   "source": [
    "#Q5 Tune model hyperparameters\n",
    "#"
   ]
  },
  {
   "cell_type": "code",
   "execution_count": 7,
   "id": "80aec6ba",
   "metadata": {},
   "outputs": [
    {
     "name": "stdout",
     "output_type": "stream",
     "text": [
      "🏃 View run bright-hare-989 at: http://127.0.0.1:5000/#/experiments/1/runs/d28621556ad34ccfa3082f20459c8571\n",
      "\n",
      "🧪 View experiment at: http://127.0.0.1:5000/#/experiments/1                    \n",
      "\n",
      "🏃 View run enchanting-ray-68 at: http://127.0.0.1:5000/#/experiments/1/runs/e60a5d6fedf14ee5ae46d0b2021aa917\n",
      "\n",
      "🧪 View experiment at: http://127.0.0.1:5000/#/experiments/1                    \n",
      "\n",
      "🏃 View run crawling-jay-516 at: http://127.0.0.1:5000/#/experiments/1/runs/a0b036252eba41629c9cb94ce34be156\n",
      "\n",
      "🧪 View experiment at: http://127.0.0.1:5000/#/experiments/1                    \n",
      "\n",
      "🏃 View run invincible-tern-208 at: http://127.0.0.1:5000/#/experiments/1/runs/ff570f1fdb264ddf83987e691463bb0b\n",
      "\n",
      "🧪 View experiment at: http://127.0.0.1:5000/#/experiments/1                    \n",
      "\n",
      "🏃 View run rumbling-fowl-720 at: http://127.0.0.1:5000/#/experiments/1/runs/ec96116f598e400387c2629b817e59a7\n",
      "\n",
      "🧪 View experiment at: http://127.0.0.1:5000/#/experiments/1                    \n",
      "\n",
      "🏃 View run monumental-lark-438 at: http://127.0.0.1:5000/#/experiments/1/runs/2c4e4a83d5d449bc910f106f3a536279\n",
      "\n",
      "🧪 View experiment at: http://127.0.0.1:5000/#/experiments/1                    \n",
      "\n",
      "🏃 View run wistful-grouse-239 at: http://127.0.0.1:5000/#/experiments/1/runs/1579a0c2d7e441998365689fd3159a84\n",
      "\n",
      "🧪 View experiment at: http://127.0.0.1:5000/#/experiments/1                    \n",
      "\n",
      "🏃 View run rumbling-loon-856 at: http://127.0.0.1:5000/#/experiments/1/runs/f4c4ea58638443f4833eed610e785ba5\n",
      "\n",
      "🧪 View experiment at: http://127.0.0.1:5000/#/experiments/1                    \n",
      "\n",
      "🏃 View run amazing-robin-879 at: http://127.0.0.1:5000/#/experiments/1/runs/2f73889d344f4f2098d1fc1679b9428c\n",
      "\n",
      "🧪 View experiment at: http://127.0.0.1:5000/#/experiments/1                    \n",
      "\n",
      "🏃 View run bold-koi-431 at: http://127.0.0.1:5000/#/experiments/1/runs/6e6322a8a7be430cb27cb8b9b0541a76\n",
      "\n",
      "🧪 View experiment at: http://127.0.0.1:5000/#/experiments/1                    \n",
      "\n",
      "🏃 View run thundering-trout-229 at: http://127.0.0.1:5000/#/experiments/1/runs/6d6263f72d3a4bce9dc49118fbc10bea\n",
      "\n",
      "🧪 View experiment at: http://127.0.0.1:5000/#/experiments/1                    \n",
      "\n",
      "🏃 View run receptive-shrew-929 at: http://127.0.0.1:5000/#/experiments/1/runs/2c1e441e1fd44514a82de1fc0af05580\n",
      "\n",
      "🧪 View experiment at: http://127.0.0.1:5000/#/experiments/1                    \n",
      "\n",
      "🏃 View run powerful-sponge-251 at: http://127.0.0.1:5000/#/experiments/1/runs/68e9550c6b8b4fc49b6f436623ea909c\n",
      "\n",
      "🧪 View experiment at: http://127.0.0.1:5000/#/experiments/1                    \n",
      "\n",
      "🏃 View run vaunted-mouse-371 at: http://127.0.0.1:5000/#/experiments/1/runs/3012cee3cb5e41fea28c480342d9a98f\n",
      "\n",
      "🧪 View experiment at: http://127.0.0.1:5000/#/experiments/1                    \n",
      "\n",
      "🏃 View run capricious-lamb-54 at: http://127.0.0.1:5000/#/experiments/1/runs/ac1987dde03d4020b757b7085db91906\n",
      "\n",
      "🧪 View experiment at: http://127.0.0.1:5000/#/experiments/1                    \n",
      "\n",
      "🏃 View run resilient-smelt-658 at: http://127.0.0.1:5000/#/experiments/1/runs/82bf34a7e2894eb99b83829f414745cd\n",
      "\n",
      "🧪 View experiment at: http://127.0.0.1:5000/#/experiments/1                    \n",
      "\n",
      "🏃 View run skittish-stag-214 at: http://127.0.0.1:5000/#/experiments/1/runs/f5342f3ab3544fb4b036e4788010e17d\n",
      "\n",
      "🧪 View experiment at: http://127.0.0.1:5000/#/experiments/1                    \n",
      "\n",
      "🏃 View run rebellious-dove-880 at: http://127.0.0.1:5000/#/experiments/1/runs/2c42705f036746318aafef92ec627c53\n",
      "\n",
      "🧪 View experiment at: http://127.0.0.1:5000/#/experiments/1                    \n",
      "\n",
      "🏃 View run adaptable-cod-259 at: http://127.0.0.1:5000/#/experiments/1/runs/888ba0e8e63d45a384684c7066ef6cf3\n",
      "\n",
      "🧪 View experiment at: http://127.0.0.1:5000/#/experiments/1                    \n",
      "\n",
      "🏃 View run chill-wren-72 at: http://127.0.0.1:5000/#/experiments/1/runs/b53ddca2eda549f7bcf5c8bc7aed1103\n",
      "\n",
      "🧪 View experiment at: http://127.0.0.1:5000/#/experiments/1                    \n",
      "\n",
      "🏃 View run rogue-hawk-731 at: http://127.0.0.1:5000/#/experiments/1/runs/ef7c40dc618541e88d2eeaf971d529ac\n",
      "\n",
      "🧪 View experiment at: http://127.0.0.1:5000/#/experiments/1                    \n",
      "\n",
      "🏃 View run salty-mule-607 at: http://127.0.0.1:5000/#/experiments/1/runs/cda58463ea8749888d09561713c98cfd\n",
      "\n",
      "🧪 View experiment at: http://127.0.0.1:5000/#/experiments/1                    \n",
      "\n",
      "🏃 View run silent-hen-856 at: http://127.0.0.1:5000/#/experiments/1/runs/ad4810e9ae9146b0b51ac716ff529e07\n",
      "\n",
      "🧪 View experiment at: http://127.0.0.1:5000/#/experiments/1                    \n",
      "\n",
      "🏃 View run smiling-doe-177 at: http://127.0.0.1:5000/#/experiments/1/runs/2cb8c97b25ad483caacc1063cd05f546\n",
      "\n",
      "🧪 View experiment at: http://127.0.0.1:5000/#/experiments/1                    \n",
      "\n",
      "🏃 View run judicious-yak-815 at: http://127.0.0.1:5000/#/experiments/1/runs/fa3bd39fd2c6493fbfdbeabc1f4ecf5c\n",
      "\n",
      "🧪 View experiment at: http://127.0.0.1:5000/#/experiments/1                    \n",
      "\n",
      "🏃 View run vaunted-skunk-274 at: http://127.0.0.1:5000/#/experiments/1/runs/efb366ad11c74c80b81a32f0cd314387\n",
      "\n",
      "🧪 View experiment at: http://127.0.0.1:5000/#/experiments/1                    \n",
      "\n",
      "🏃 View run zealous-fowl-730 at: http://127.0.0.1:5000/#/experiments/1/runs/8a83b9deb7ba46689670bad0b9069d13\n",
      "\n",
      "🧪 View experiment at: http://127.0.0.1:5000/#/experiments/1                    \n",
      "\n",
      "🏃 View run placid-cod-218 at: http://127.0.0.1:5000/#/experiments/1/runs/cf39d3ff04504161abc5d0dba304a0e4\n",
      "\n",
      "🧪 View experiment at: http://127.0.0.1:5000/#/experiments/1                    \n",
      "\n",
      "🏃 View run languid-boar-744 at: http://127.0.0.1:5000/#/experiments/1/runs/e3cb2d65dcd344d8a388c79364bb6d78\n",
      "\n",
      "🧪 View experiment at: http://127.0.0.1:5000/#/experiments/1                    \n",
      "\n",
      "🏃 View run dashing-bear-158 at: http://127.0.0.1:5000/#/experiments/1/runs/d3ab7ae3b9d54bedae366051eea48355\n",
      "\n",
      "🧪 View experiment at: http://127.0.0.1:5000/#/experiments/1                    \n",
      "\n",
      "🏃 View run powerful-mule-198 at: http://127.0.0.1:5000/#/experiments/1/runs/ed41bc604a174979af4eac60d1aba3ec\n",
      "\n",
      "🧪 View experiment at: http://127.0.0.1:5000/#/experiments/1                    \n",
      "\n",
      "🏃 View run abundant-rook-537 at: http://127.0.0.1:5000/#/experiments/1/runs/a5012c29e95548ecab14151ef1ed22ff\n",
      "\n",
      "🧪 View experiment at: http://127.0.0.1:5000/#/experiments/1                    \n",
      "\n",
      "🏃 View run bold-hound-255 at: http://127.0.0.1:5000/#/experiments/1/runs/a5658fdf18e64ef2843be5bbc887303b\n",
      "\n",
      "🧪 View experiment at: http://127.0.0.1:5000/#/experiments/1                    \n",
      "\n",
      "🏃 View run masked-pig-684 at: http://127.0.0.1:5000/#/experiments/1/runs/543b752c13d04cea88677a75a418a974\n",
      "\n",
      "🧪 View experiment at: http://127.0.0.1:5000/#/experiments/1                    \n",
      "\n",
      "🏃 View run intrigued-hog-843 at: http://127.0.0.1:5000/#/experiments/1/runs/b51359d9adad4405b36a4267ea390246\n",
      "\n",
      "🧪 View experiment at: http://127.0.0.1:5000/#/experiments/1                    \n",
      "\n",
      "🏃 View run adventurous-swan-927 at: http://127.0.0.1:5000/#/experiments/1/runs/546a1b46c299412e8c003ff58140d1a3\n",
      "\n",
      "🧪 View experiment at: http://127.0.0.1:5000/#/experiments/1                    \n",
      "\n",
      "🏃 View run useful-snake-970 at: http://127.0.0.1:5000/#/experiments/1/runs/1b6805807f8b4dbba4beeac5dec3d737\n",
      "\n",
      "🧪 View experiment at: http://127.0.0.1:5000/#/experiments/1                    \n",
      "\n",
      "🏃 View run clean-foal-143 at: http://127.0.0.1:5000/#/experiments/1/runs/71390b42ca364adcae078429327877f3\n",
      "\n",
      "🧪 View experiment at: http://127.0.0.1:5000/#/experiments/1                    \n",
      "\n",
      "🏃 View run dashing-bass-547 at: http://127.0.0.1:5000/#/experiments/1/runs/2b5b76d0b070498aa84ee91d287915b8\n",
      "\n",
      "🧪 View experiment at: http://127.0.0.1:5000/#/experiments/1                    \n",
      "\n",
      "🏃 View run suave-quail-214 at: http://127.0.0.1:5000/#/experiments/1/runs/5fd103a737bd4b09bfeca55862552b34\n",
      "\n",
      "🧪 View experiment at: http://127.0.0.1:5000/#/experiments/1                    \n",
      "\n",
      "🏃 View run persistent-carp-571 at: http://127.0.0.1:5000/#/experiments/1/runs/8ea612ded07942719bee7f7c8e304234\n",
      "\n",
      "🧪 View experiment at: http://127.0.0.1:5000/#/experiments/1                    \n",
      "\n",
      "🏃 View run silent-shad-134 at: http://127.0.0.1:5000/#/experiments/1/runs/90809a745b294ece8209f4a96d124ff3\n",
      "\n",
      "🧪 View experiment at: http://127.0.0.1:5000/#/experiments/1                    \n",
      "\n",
      "🏃 View run loud-hare-207 at: http://127.0.0.1:5000/#/experiments/1/runs/77f597a2ae834bada77ef35ff053dedd\n",
      "\n",
      "🧪 View experiment at: http://127.0.0.1:5000/#/experiments/1                    \n",
      "\n",
      "🏃 View run incongruous-ray-14 at: http://127.0.0.1:5000/#/experiments/1/runs/d5b3381fbdc942649cdc5072e6f56240\n",
      "\n",
      "🧪 View experiment at: http://127.0.0.1:5000/#/experiments/1                    \n",
      "\n",
      "🏃 View run grandiose-chimp-893 at: http://127.0.0.1:5000/#/experiments/1/runs/256d44a028f14d7d9e4e698aa20626ee\n",
      "\n",
      "🧪 View experiment at: http://127.0.0.1:5000/#/experiments/1                    \n",
      "\n",
      "🏃 View run bemused-seal-53 at: http://127.0.0.1:5000/#/experiments/1/runs/aae9359ca4e342f5a0a9092f63c42896\n",
      "\n",
      "🧪 View experiment at: http://127.0.0.1:5000/#/experiments/1                    \n",
      "\n",
      "🏃 View run rumbling-crab-172 at: http://127.0.0.1:5000/#/experiments/1/runs/329265b6bc33462ca11a29e3528bcf2c\n",
      "\n",
      "🧪 View experiment at: http://127.0.0.1:5000/#/experiments/1                    \n",
      "\n",
      "🏃 View run crawling-hound-258 at: http://127.0.0.1:5000/#/experiments/1/runs/c3709533d68647b8b6aae25d7b71e7ec\n",
      "\n",
      "🧪 View experiment at: http://127.0.0.1:5000/#/experiments/1                    \n",
      "\n",
      "🏃 View run judicious-snipe-77 at: http://127.0.0.1:5000/#/experiments/1/runs/f9723ddeee8843b59f284019631578f9\n",
      "\n",
      "🧪 View experiment at: http://127.0.0.1:5000/#/experiments/1                    \n",
      "\n",
      "🏃 View run powerful-colt-925 at: http://127.0.0.1:5000/#/experiments/1/runs/f17e8ff728fe4e2398d19aee6b54f669\n",
      "\n",
      "🧪 View experiment at: http://127.0.0.1:5000/#/experiments/1                    \n",
      "\n",
      "100%|██████████| 50/50 [06:37<00:00,  7.94s/trial, best loss: 5.320408749882826]\n"
     ]
    }
   ],
   "source": [
    "!python hpo.py"
   ]
  },
  {
   "cell_type": "code",
   "execution_count": null,
   "id": "83d009f2",
   "metadata": {},
   "outputs": [],
   "source": [
    "best_run = client.search_runs(\n",
    "  experiment_ids = 2, \n",
    "  run_view_type= mlflow.entities.ViewType.ACTIVE_ONLY,\n",
    "  max_results=1,\n",
    "  order_by=[\"metrics.rmse ASC\"]\n",
    ")[0]\n",
    "# best_run"
   ]
  },
  {
   "cell_type": "code",
   "execution_count": null,
   "id": "edf51f93",
   "metadata": {},
   "outputs": [],
   "source": [
    "print('The best validation rmse is :', round(best_run.data.metrics['rmse'], 3))"
   ]
  }
 ],
 "metadata": {
  "kernelspec": {
   "display_name": "exp-tracking-env",
   "language": "python",
   "name": "python3"
  },
  "language_info": {
   "codemirror_mode": {
    "name": "ipython",
    "version": 3
   },
   "file_extension": ".py",
   "mimetype": "text/x-python",
   "name": "python",
   "nbconvert_exporter": "python",
   "pygments_lexer": "ipython3",
   "version": "3.9.21"
  }
 },
 "nbformat": 4,
 "nbformat_minor": 5
}
