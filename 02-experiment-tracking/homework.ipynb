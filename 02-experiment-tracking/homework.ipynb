{
 "cells": [
  {
   "cell_type": "code",
   "execution_count": null,
   "id": "f8dcb346",
   "metadata": {},
   "outputs": [],
   "source": [
    "#Q1"
   ]
  },
  {
   "cell_type": "code",
   "execution_count": 1,
   "id": "f953cb5a",
   "metadata": {},
   "outputs": [
    {
     "name": "stdout",
     "output_type": "stream",
     "text": [
      "2.22.0\n"
     ]
    }
   ],
   "source": [
    "import mlflow\n",
    "print(mlflow.__version__)\n"
   ]
  },
  {
   "cell_type": "code",
   "execution_count": null,
   "id": "1404ecb6",
   "metadata": {},
   "outputs": [],
   "source": [
    "#Q2\n",
    "#Q2. Download and preprocess the data"
   ]
  },
  {
   "cell_type": "code",
   "execution_count": 2,
   "id": "df537780",
   "metadata": {},
   "outputs": [
    {
     "name": "stdout",
     "output_type": "stream",
     "text": [
      "dv.pkl\ttest.pkl  train.pkl  val.pkl\n"
     ]
    }
   ],
   "source": [
    "!dir \"output\" "
   ]
  },
  {
   "cell_type": "markdown",
   "id": "22a3a7fe",
   "metadata": {},
   "source": [
    "Answer: 4 files are in the output folder"
   ]
  },
  {
   "cell_type": "code",
   "execution_count": null,
   "id": "83a2c532",
   "metadata": {},
   "outputs": [],
   "source": [
    "#Q3\n",
    "#Train a model with autolog"
   ]
  },
  {
   "cell_type": "markdown",
   "id": "993f151e",
   "metadata": {},
   "source": [
    "Answer: the value of the min_samlple_split parameter is 2"
   ]
  },
  {
   "cell_type": "markdown",
   "id": "8f988d18",
   "metadata": {},
   "source": [
    "#4 "
   ]
  }
 ],
 "metadata": {
  "kernelspec": {
   "display_name": "exp-tracking-env",
   "language": "python",
   "name": "python3"
  },
  "language_info": {
   "codemirror_mode": {
    "name": "ipython",
    "version": 3
   },
   "file_extension": ".py",
   "mimetype": "text/x-python",
   "name": "python",
   "nbconvert_exporter": "python",
   "pygments_lexer": "ipython3",
   "version": "3.9.21"
  }
 },
 "nbformat": 4,
 "nbformat_minor": 5
}
